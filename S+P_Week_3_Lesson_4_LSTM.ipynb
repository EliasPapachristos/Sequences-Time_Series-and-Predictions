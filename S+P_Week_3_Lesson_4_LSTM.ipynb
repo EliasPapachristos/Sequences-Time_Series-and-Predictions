{
  "nbformat": 4,
  "nbformat_minor": 0,
  "metadata": {
    "colab": {
      "name": "S+P Week 3 Lesson 4 - LSTM.ipynb",
      "version": "0.3.2",
      "provenance": [],
      "collapsed_sections": []
    },
    "kernelspec": {
      "name": "python3",
      "display_name": "Python 3"
    },
    "accelerator": "GPU"
  },
  "cells": [
    {
      "cell_type": "code",
      "metadata": {
        "id": "D1J15Vh_1Jih",
        "colab_type": "code",
        "colab": {
          "base_uri": "https://localhost:8080/",
          "height": 697
        },
        "outputId": "63d628bc-1f7f-49e5-9246-77efe5641152"
      },
      "source": [
        "!pip install tf-nightly-2.0-preview\n"
      ],
      "execution_count": 2,
      "outputs": [
        {
          "output_type": "stream",
          "text": [
            "Collecting tf-nightly-2.0-preview\n",
            "\u001b[?25l  Downloading https://files.pythonhosted.org/packages/16/46/7e591681a8930a85d0a83bf834d09fd22beb01f7dc70e71600c0221e4f3d/tf_nightly_2.0_preview-2.0.0.dev20190725-cp36-cp36m-manylinux1_x86_64.whl (79.9MB)\n",
            "\u001b[K     |████████████████████████████████| 79.9MB 92.0MB/s \n",
            "\u001b[?25hRequirement already satisfied: keras-applications>=1.0.8 in /usr/local/lib/python3.6/dist-packages (from tf-nightly-2.0-preview) (1.0.8)\n",
            "Requirement already satisfied: keras-preprocessing>=1.0.5 in /usr/local/lib/python3.6/dist-packages (from tf-nightly-2.0-preview) (1.1.0)\n",
            "Requirement already satisfied: six>=1.10.0 in /usr/local/lib/python3.6/dist-packages (from tf-nightly-2.0-preview) (1.12.0)\n",
            "Requirement already satisfied: protobuf>=3.6.1 in /usr/local/lib/python3.6/dist-packages (from tf-nightly-2.0-preview) (3.7.1)\n",
            "Collecting tensorflow-estimator-2.0-preview (from tf-nightly-2.0-preview)\n",
            "\u001b[?25l  Downloading https://files.pythonhosted.org/packages/24/26/924279a0ac072a4ce3c8486f5ff73b5c36759a7b7e4086948c2743e4551c/tensorflow_estimator_2.0_preview-1.14.0.dev2019072500-py2.py3-none-any.whl (448kB)\n",
            "\u001b[K     |████████████████████████████████| 450kB 49.0MB/s \n",
            "\u001b[?25hRequirement already satisfied: gast>=0.2.0 in /usr/local/lib/python3.6/dist-packages (from tf-nightly-2.0-preview) (0.2.2)\n",
            "Collecting opt-einsum>=2.3.2 (from tf-nightly-2.0-preview)\n",
            "\u001b[?25l  Downloading https://files.pythonhosted.org/packages/f6/d6/44792ec668bcda7d91913c75237314e688f70415ab2acd7172c845f0b24f/opt_einsum-2.3.2.tar.gz (59kB)\n",
            "\u001b[K     |████████████████████████████████| 61kB 30.8MB/s \n",
            "\u001b[?25hRequirement already satisfied: absl-py>=0.7.0 in /usr/local/lib/python3.6/dist-packages (from tf-nightly-2.0-preview) (0.7.1)\n",
            "Requirement already satisfied: termcolor>=1.1.0 in /usr/local/lib/python3.6/dist-packages (from tf-nightly-2.0-preview) (1.1.0)\n",
            "Requirement already satisfied: wrapt>=1.11.1 in /usr/local/lib/python3.6/dist-packages (from tf-nightly-2.0-preview) (1.11.2)\n",
            "Collecting tb-nightly<1.16.0a0,>=1.15.0a0 (from tf-nightly-2.0-preview)\n",
            "\u001b[?25l  Downloading https://files.pythonhosted.org/packages/0f/12/a8ff253b9aca45933b1381d4476e97f659e78bd28f79c599d01423d30c68/tb_nightly-1.15.0a20190725-py3-none-any.whl (4.1MB)\n",
            "\u001b[K     |████████████████████████████████| 4.1MB 42.7MB/s \n",
            "\u001b[?25hRequirement already satisfied: numpy<2.0,>=1.16.0 in /usr/local/lib/python3.6/dist-packages (from tf-nightly-2.0-preview) (1.16.4)\n",
            "Requirement already satisfied: wheel>=0.26 in /usr/local/lib/python3.6/dist-packages (from tf-nightly-2.0-preview) (0.33.4)\n",
            "Requirement already satisfied: grpcio>=1.8.6 in /usr/local/lib/python3.6/dist-packages (from tf-nightly-2.0-preview) (1.15.0)\n",
            "Requirement already satisfied: astor>=0.6.0 in /usr/local/lib/python3.6/dist-packages (from tf-nightly-2.0-preview) (0.8.0)\n",
            "Requirement already satisfied: google-pasta>=0.1.6 in /usr/local/lib/python3.6/dist-packages (from tf-nightly-2.0-preview) (0.1.7)\n",
            "Requirement already satisfied: h5py in /usr/local/lib/python3.6/dist-packages (from keras-applications>=1.0.8->tf-nightly-2.0-preview) (2.8.0)\n",
            "Requirement already satisfied: setuptools in /usr/local/lib/python3.6/dist-packages (from protobuf>=3.6.1->tf-nightly-2.0-preview) (41.0.1)\n",
            "Requirement already satisfied: markdown>=2.6.8 in /usr/local/lib/python3.6/dist-packages (from tb-nightly<1.16.0a0,>=1.15.0a0->tf-nightly-2.0-preview) (3.1.1)\n",
            "Requirement already satisfied: werkzeug>=0.11.15 in /usr/local/lib/python3.6/dist-packages (from tb-nightly<1.16.0a0,>=1.15.0a0->tf-nightly-2.0-preview) (0.15.5)\n",
            "Building wheels for collected packages: opt-einsum\n",
            "  Building wheel for opt-einsum (setup.py) ... \u001b[?25l\u001b[?25hdone\n",
            "  Stored in directory: /root/.cache/pip/wheels/51/3e/a3/b351fae0cbf15373c2136a54a70f43fea5fe91d8168a5faaa4\n",
            "Successfully built opt-einsum\n",
            "Installing collected packages: tensorflow-estimator-2.0-preview, opt-einsum, tb-nightly, tf-nightly-2.0-preview\n",
            "Successfully installed opt-einsum-2.3.2 tb-nightly-1.15.0a20190725 tensorflow-estimator-2.0-preview-1.14.0.dev2019072500 tf-nightly-2.0-preview-2.0.0.dev20190725\n"
          ],
          "name": "stdout"
        },
        {
          "output_type": "display_data",
          "data": {
            "application/vnd.colab-display-data+json": {
              "pip_warning": {
                "packages": [
                  "tensorboard",
                  "tensorflow",
                  "tensorflow_estimator"
                ]
              }
            }
          },
          "metadata": {
            "tags": []
          }
        }
      ]
    },
    {
      "cell_type": "code",
      "metadata": {
        "id": "BOjujz601HcS",
        "colab_type": "code",
        "outputId": "afebb225-8d14-4518-ef94-683eb5680a2d",
        "colab": {
          "base_uri": "https://localhost:8080/",
          "height": 34
        }
      },
      "source": [
        "import tensorflow as tf\n",
        "import numpy as np\n",
        "import matplotlib.pyplot as plt\n",
        "print(tf.__version__)"
      ],
      "execution_count": 1,
      "outputs": [
        {
          "output_type": "stream",
          "text": [
            "2.0.0-dev20190725\n"
          ],
          "name": "stdout"
        }
      ]
    },
    {
      "cell_type": "code",
      "metadata": {
        "colab_type": "code",
        "id": "Zswl7jRtGzkk",
        "colab": {}
      },
      "source": [
        "def plot_series(time, series, format=\"-\", start=0, end=None):\n",
        "    plt.plot(time[start:end], series[start:end], format)\n",
        "    plt.xlabel(\"Time\")\n",
        "    plt.ylabel(\"Value\")\n",
        "    plt.grid(True)\n",
        "\n",
        "def trend(time, slope=0):\n",
        "    return slope * time\n",
        "\n",
        "def seasonal_pattern(season_time):\n",
        "    \"\"\"Just an arbitrary pattern, you can change it if you wish\"\"\"\n",
        "    return np.where(season_time < 0.4,\n",
        "                    np.cos(season_time * 2 * np.pi),\n",
        "                    1 / np.exp(3 * season_time))\n",
        "\n",
        "def seasonality(time, period, amplitude=1, phase=0):\n",
        "    \"\"\"Repeats the same pattern at each period\"\"\"\n",
        "    season_time = ((time + phase) % period) / period\n",
        "    return amplitude * seasonal_pattern(season_time)\n",
        "\n",
        "def noise(time, noise_level=1, seed=None):\n",
        "    rnd = np.random.RandomState(seed)\n",
        "    return rnd.randn(len(time)) * noise_level\n",
        "\n",
        "time = np.arange(4 * 365 + 1, dtype=\"float32\")\n",
        "baseline = 10\n",
        "series = trend(time, 0.1)  \n",
        "baseline = 10\n",
        "amplitude = 40\n",
        "slope = 0.05\n",
        "noise_level = 5\n",
        "\n",
        "# Create the series\n",
        "series = baseline + trend(time, slope) + seasonality(time, period=365, amplitude=amplitude)\n",
        "# Update with noise\n",
        "series += noise(time, noise_level, seed=42)\n",
        "\n",
        "split_time = 1000\n",
        "time_train = time[:split_time]\n",
        "x_train = series[:split_time]\n",
        "time_valid = time[split_time:]\n",
        "x_valid = series[split_time:]\n",
        "\n",
        "window_size = 20\n",
        "batch_size = 32\n",
        "shuffle_buffer_size = 1000"
      ],
      "execution_count": 0,
      "outputs": []
    },
    {
      "cell_type": "code",
      "metadata": {
        "id": "4sTTIOCbyShY",
        "colab_type": "code",
        "colab": {}
      },
      "source": [
        "def windowed_dataset(series, window_size, batch_size, shuffle_buffer):\n",
        "  dataset = tf.data.Dataset.from_tensor_slices(series)\n",
        "  dataset = dataset.window(window_size + 1, shift=1, drop_remainder=True)\n",
        "  dataset = dataset.flat_map(lambda window: window.batch(window_size + 1))\n",
        "  dataset = dataset.shuffle(shuffle_buffer).map(lambda window: (window[:-1], window[-1]))\n",
        "  dataset = dataset.batch(batch_size).prefetch(1)\n",
        "  return dataset"
      ],
      "execution_count": 0,
      "outputs": []
    },
    {
      "cell_type": "code",
      "metadata": {
        "id": "A1Hl39rklkLm",
        "colab_type": "code",
        "outputId": "662b9d5d-85f9-472c-d256-f090f4067135",
        "colab": {
          "base_uri": "https://localhost:8080/",
          "height": 1000
        }
      },
      "source": [
        "tf.keras.backend.clear_session()\n",
        "tf.random.set_seed(51)\n",
        "np.random.seed(51)\n",
        "\n",
        "tf.keras.backend.clear_session()\n",
        "dataset = windowed_dataset(x_train, window_size, batch_size, shuffle_buffer_size)\n",
        "\n",
        "model = tf.keras.models.Sequential([\n",
        "  tf.keras.layers.Lambda(lambda x: tf.expand_dims(x, axis=-1),\n",
        "                      input_shape=[None]),\n",
        "    tf.keras.layers.Bidirectional(tf.keras.layers.LSTM(32, return_sequences=True)),\n",
        "  tf.keras.layers.Bidirectional(tf.keras.layers.LSTM(32)),\n",
        "  tf.keras.layers.Dense(1),\n",
        "  tf.keras.layers.Lambda(lambda x: x * 100.0)\n",
        "])\n",
        "\n",
        "lr_schedule = tf.keras.callbacks.LearningRateScheduler(\n",
        "    lambda epoch: 1e-8 * 10**(epoch / 20))\n",
        "optimizer = tf.keras.optimizers.SGD(lr=1e-8, momentum=0.9)\n",
        "model.compile(loss=tf.keras.losses.Huber(),\n",
        "              optimizer=optimizer,\n",
        "              metrics=[\"mae\"])\n",
        "history = model.fit(dataset, epochs=100, callbacks=[lr_schedule])"
      ],
      "execution_count": 4,
      "outputs": [
        {
          "output_type": "stream",
          "text": [
            "WARNING: Logging before flag parsing goes to stderr.\n",
            "W0725 12:20:14.511101 140118963283840 deprecation.py:323] From /usr/local/lib/python3.6/dist-packages/tensorflow_core/python/data/util/random_seed.py:58: where (from tensorflow.python.ops.array_ops) is deprecated and will be removed in a future version.\n",
            "Instructions for updating:\n",
            "Use tf.where in 2.0, which has the same broadcast rule as np.where\n"
          ],
          "name": "stderr"
        },
        {
          "output_type": "stream",
          "text": [
            "Epoch 1/100\n"
          ],
          "name": "stdout"
        },
        {
          "output_type": "stream",
          "text": [
            "W0725 12:20:17.064077 140118963283840 deprecation.py:323] From /usr/local/lib/python3.6/dist-packages/tensorflow_core/python/keras/optimizer_v2/optimizer_v2.py:468: BaseResourceVariable.constraint (from tensorflow.python.ops.resource_variable_ops) is deprecated and will be removed in a future version.\n",
            "Instructions for updating:\n",
            "Apply a constraint manually following the optimizer update step.\n"
          ],
          "name": "stderr"
        },
        {
          "output_type": "stream",
          "text": [
            "31/31 [==============================] - 4s 136ms/step - loss: 21.4949 - mae: 22.0115\n",
            "Epoch 2/100\n",
            "31/31 [==============================] - 1s 27ms/step - loss: 21.1328 - mae: 21.6472\n",
            "Epoch 3/100\n",
            "31/31 [==============================] - 1s 26ms/step - loss: 20.7158 - mae: 21.2292\n",
            "Epoch 4/100\n",
            "31/31 [==============================] - 1s 28ms/step - loss: 20.2701 - mae: 20.7798\n",
            "Epoch 5/100\n",
            "31/31 [==============================] - 1s 28ms/step - loss: 19.7780 - mae: 20.2896\n",
            "Epoch 6/100\n",
            "31/31 [==============================] - 1s 28ms/step - loss: 19.1758 - mae: 19.6838\n",
            "Epoch 7/100\n",
            "31/31 [==============================] - 1s 29ms/step - loss: 18.2329 - mae: 18.7455\n",
            "Epoch 8/100\n",
            "31/31 [==============================] - 1s 27ms/step - loss: 17.4745 - mae: 17.9816\n",
            "Epoch 9/100\n",
            "31/31 [==============================] - 1s 27ms/step - loss: 17.1541 - mae: 17.6597\n",
            "Epoch 10/100\n",
            "31/31 [==============================] - 1s 27ms/step - loss: 16.8486 - mae: 17.3525\n",
            "Epoch 11/100\n",
            "31/31 [==============================] - 1s 28ms/step - loss: 16.5485 - mae: 17.0524\n",
            "Epoch 12/100\n",
            "31/31 [==============================] - 1s 27ms/step - loss: 16.2530 - mae: 16.7591\n",
            "Epoch 13/100\n",
            "31/31 [==============================] - 1s 28ms/step - loss: 15.9575 - mae: 16.4636\n",
            "Epoch 14/100\n",
            "31/31 [==============================] - 1s 28ms/step - loss: 15.6584 - mae: 16.1633\n",
            "Epoch 15/100\n",
            "31/31 [==============================] - 1s 27ms/step - loss: 15.3578 - mae: 15.8621\n",
            "Epoch 16/100\n",
            "31/31 [==============================] - 1s 27ms/step - loss: 15.0649 - mae: 15.5677\n",
            "Epoch 17/100\n",
            "31/31 [==============================] - 1s 28ms/step - loss: 14.7838 - mae: 15.2885\n",
            "Epoch 18/100\n",
            "31/31 [==============================] - 1s 27ms/step - loss: 14.5124 - mae: 15.0166\n",
            "Epoch 19/100\n",
            "31/31 [==============================] - 1s 28ms/step - loss: 14.2572 - mae: 14.7570\n",
            "Epoch 20/100\n",
            "31/31 [==============================] - 1s 28ms/step - loss: 14.0244 - mae: 14.5246\n",
            "Epoch 21/100\n",
            "31/31 [==============================] - 1s 26ms/step - loss: 13.8093 - mae: 14.3102\n",
            "Epoch 22/100\n",
            "31/31 [==============================] - 1s 29ms/step - loss: 13.5990 - mae: 14.1009\n",
            "Epoch 23/100\n",
            "31/31 [==============================] - 1s 29ms/step - loss: 13.3874 - mae: 13.8871\n",
            "Epoch 24/100\n",
            "31/31 [==============================] - 1s 28ms/step - loss: 13.1721 - mae: 13.6703\n",
            "Epoch 25/100\n",
            "31/31 [==============================] - 1s 27ms/step - loss: 12.9491 - mae: 13.4467\n",
            "Epoch 26/100\n",
            "31/31 [==============================] - 1s 26ms/step - loss: 12.7177 - mae: 13.2158\n",
            "Epoch 27/100\n",
            "31/31 [==============================] - 1s 27ms/step - loss: 12.4759 - mae: 12.9747\n",
            "Epoch 28/100\n",
            "31/31 [==============================] - 1s 26ms/step - loss: 12.2282 - mae: 12.7263\n",
            "Epoch 29/100\n",
            "31/31 [==============================] - 1s 26ms/step - loss: 11.9710 - mae: 12.4713\n",
            "Epoch 30/100\n",
            "31/31 [==============================] - 1s 26ms/step - loss: 11.7008 - mae: 12.2018\n",
            "Epoch 31/100\n",
            "31/31 [==============================] - 1s 26ms/step - loss: 11.3790 - mae: 11.8717\n",
            "Epoch 32/100\n",
            "31/31 [==============================] - 1s 26ms/step - loss: 11.2770 - mae: 11.7775\n",
            "Epoch 33/100\n",
            "31/31 [==============================] - 1s 27ms/step - loss: 10.5394 - mae: 11.0358\n",
            "Epoch 34/100\n",
            "31/31 [==============================] - 1s 27ms/step - loss: 10.9169 - mae: 11.4071\n",
            "Epoch 35/100\n",
            "31/31 [==============================] - 1s 27ms/step - loss: 11.1307 - mae: 11.6302\n",
            "Epoch 36/100\n",
            "31/31 [==============================] - 1s 27ms/step - loss: 10.6052 - mae: 11.1067\n",
            "Epoch 37/100\n",
            "31/31 [==============================] - 1s 27ms/step - loss: 10.0656 - mae: 10.5667\n",
            "Epoch 38/100\n",
            "31/31 [==============================] - 1s 27ms/step - loss: 9.5500 - mae: 10.0461\n",
            "Epoch 39/100\n",
            "31/31 [==============================] - 1s 26ms/step - loss: 9.0605 - mae: 9.5571\n",
            "Epoch 40/100\n",
            "31/31 [==============================] - 1s 28ms/step - loss: 8.6169 - mae: 9.1088\n",
            "Epoch 41/100\n",
            "31/31 [==============================] - 1s 27ms/step - loss: 8.1961 - mae: 8.6896\n",
            "Epoch 42/100\n",
            "31/31 [==============================] - 1s 28ms/step - loss: 7.8300 - mae: 8.3230\n",
            "Epoch 43/100\n",
            "31/31 [==============================] - 1s 28ms/step - loss: 7.5609 - mae: 8.0550\n",
            "Epoch 44/100\n",
            "31/31 [==============================] - 1s 27ms/step - loss: 7.3059 - mae: 7.8007\n",
            "Epoch 45/100\n",
            "31/31 [==============================] - 1s 27ms/step - loss: 7.0696 - mae: 7.5605\n",
            "Epoch 46/100\n",
            "31/31 [==============================] - 1s 27ms/step - loss: 6.8414 - mae: 7.3303\n",
            "Epoch 47/100\n",
            "31/31 [==============================] - 1s 27ms/step - loss: 6.6322 - mae: 7.1208\n",
            "Epoch 48/100\n",
            "31/31 [==============================] - 1s 28ms/step - loss: 6.4345 - mae: 6.9241\n",
            "Epoch 49/100\n",
            "31/31 [==============================] - 1s 27ms/step - loss: 6.2254 - mae: 6.7161\n",
            "Epoch 50/100\n",
            "31/31 [==============================] - 1s 27ms/step - loss: 6.0527 - mae: 6.5433\n",
            "Epoch 51/100\n",
            "31/31 [==============================] - 1s 27ms/step - loss: 5.8990 - mae: 6.3832\n",
            "Epoch 52/100\n",
            "31/31 [==============================] - 1s 27ms/step - loss: 5.7542 - mae: 6.2375\n",
            "Epoch 53/100\n",
            "31/31 [==============================] - 1s 28ms/step - loss: 5.6079 - mae: 6.0902\n",
            "Epoch 54/100\n",
            "31/31 [==============================] - 1s 27ms/step - loss: 5.4807 - mae: 5.9581\n",
            "Epoch 55/100\n",
            "31/31 [==============================] - 1s 28ms/step - loss: 5.3883 - mae: 5.8649\n",
            "Epoch 56/100\n",
            "31/31 [==============================] - 1s 27ms/step - loss: 5.3283 - mae: 5.7960\n",
            "Epoch 57/100\n",
            "31/31 [==============================] - 1s 28ms/step - loss: 5.3062 - mae: 5.7761\n",
            "Epoch 58/100\n",
            "31/31 [==============================] - 1s 29ms/step - loss: 5.2953 - mae: 5.7588\n",
            "Epoch 59/100\n",
            "31/31 [==============================] - 1s 28ms/step - loss: 5.2223 - mae: 5.6861\n",
            "Epoch 60/100\n",
            "31/31 [==============================] - 1s 27ms/step - loss: 5.0937 - mae: 5.5644\n",
            "Epoch 61/100\n",
            "31/31 [==============================] - 1s 25ms/step - loss: 5.1471 - mae: 5.6095\n",
            "Epoch 62/100\n",
            "31/31 [==============================] - 1s 26ms/step - loss: 5.2782 - mae: 5.7408\n",
            "Epoch 63/100\n",
            "31/31 [==============================] - 1s 26ms/step - loss: 5.3021 - mae: 5.7684\n",
            "Epoch 64/100\n",
            "31/31 [==============================] - 1s 27ms/step - loss: 4.9985 - mae: 5.4791\n",
            "Epoch 65/100\n",
            "31/31 [==============================] - 1s 28ms/step - loss: 5.2654 - mae: 5.7439\n",
            "Epoch 66/100\n",
            "31/31 [==============================] - 1s 26ms/step - loss: 5.0887 - mae: 5.5727\n",
            "Epoch 67/100\n",
            "31/31 [==============================] - 1s 26ms/step - loss: 5.0242 - mae: 5.5035\n",
            "Epoch 68/100\n",
            "31/31 [==============================] - 1s 26ms/step - loss: 4.9529 - mae: 5.4333\n",
            "Epoch 69/100\n",
            "31/31 [==============================] - 1s 27ms/step - loss: 5.2927 - mae: 5.7740\n",
            "Epoch 70/100\n",
            "31/31 [==============================] - 1s 28ms/step - loss: 5.0261 - mae: 5.5066\n",
            "Epoch 71/100\n",
            "31/31 [==============================] - 1s 27ms/step - loss: 5.8696 - mae: 6.3686\n",
            "Epoch 72/100\n",
            "31/31 [==============================] - 1s 28ms/step - loss: 5.3382 - mae: 5.8242\n",
            "Epoch 73/100\n",
            "31/31 [==============================] - 1s 26ms/step - loss: 6.3299 - mae: 6.8227\n",
            "Epoch 74/100\n",
            "31/31 [==============================] - 1s 26ms/step - loss: 5.6163 - mae: 6.1123\n",
            "Epoch 75/100\n",
            "31/31 [==============================] - 1s 27ms/step - loss: 6.4488 - mae: 6.9283\n",
            "Epoch 76/100\n",
            "31/31 [==============================] - 1s 27ms/step - loss: 6.1671 - mae: 6.6603\n",
            "Epoch 77/100\n",
            "31/31 [==============================] - 1s 27ms/step - loss: 6.4808 - mae: 6.9601\n",
            "Epoch 78/100\n",
            "31/31 [==============================] - 1s 29ms/step - loss: 6.6523 - mae: 7.1433\n",
            "Epoch 79/100\n",
            "31/31 [==============================] - 1s 27ms/step - loss: 6.8485 - mae: 7.3134\n",
            "Epoch 80/100\n",
            "31/31 [==============================] - 1s 28ms/step - loss: 6.3008 - mae: 6.7903\n",
            "Epoch 81/100\n",
            "31/31 [==============================] - 1s 27ms/step - loss: 5.3683 - mae: 5.8115\n",
            "Epoch 82/100\n",
            "31/31 [==============================] - 1s 27ms/step - loss: 5.7670 - mae: 6.2373\n",
            "Epoch 83/100\n",
            "31/31 [==============================] - 1s 27ms/step - loss: 5.5024 - mae: 5.9381\n",
            "Epoch 84/100\n",
            "31/31 [==============================] - 1s 28ms/step - loss: 6.5557 - mae: 7.0556\n",
            "Epoch 85/100\n",
            "31/31 [==============================] - 1s 27ms/step - loss: 5.5748 - mae: 6.0551\n",
            "Epoch 86/100\n",
            "31/31 [==============================] - 1s 27ms/step - loss: 7.1758 - mae: 7.5930\n",
            "Epoch 87/100\n",
            "31/31 [==============================] - 1s 26ms/step - loss: 7.5366 - mae: 7.9879\n",
            "Epoch 88/100\n",
            "31/31 [==============================] - 1s 26ms/step - loss: 6.6387 - mae: 7.1402\n",
            "Epoch 89/100\n",
            "31/31 [==============================] - 1s 27ms/step - loss: 7.0979 - mae: 7.4897\n",
            "Epoch 90/100\n",
            "31/31 [==============================] - 1s 27ms/step - loss: 8.7501 - mae: 9.2225\n",
            "Epoch 91/100\n",
            "31/31 [==============================] - 1s 28ms/step - loss: 7.7308 - mae: 8.2092\n",
            "Epoch 92/100\n",
            "31/31 [==============================] - 1s 28ms/step - loss: 8.7628 - mae: 9.2880\n",
            "Epoch 93/100\n",
            "31/31 [==============================] - 1s 28ms/step - loss: 8.2719 - mae: 8.7394\n",
            "Epoch 94/100\n",
            "31/31 [==============================] - 1s 28ms/step - loss: 6.2644 - mae: 6.7485\n",
            "Epoch 95/100\n",
            "31/31 [==============================] - 1s 27ms/step - loss: 7.9509 - mae: 8.4352\n",
            "Epoch 96/100\n",
            "31/31 [==============================] - 1s 26ms/step - loss: 9.5655 - mae: 9.9891\n",
            "Epoch 97/100\n",
            "31/31 [==============================] - 1s 28ms/step - loss: 13.2563 - mae: 13.7785\n",
            "Epoch 98/100\n",
            "31/31 [==============================] - 1s 27ms/step - loss: 10.2748 - mae: 10.7659\n",
            "Epoch 99/100\n",
            "31/31 [==============================] - 1s 26ms/step - loss: 11.1914 - mae: 11.6669\n",
            "Epoch 100/100\n",
            "31/31 [==============================] - 1s 27ms/step - loss: 10.8623 - mae: 11.3983\n"
          ],
          "name": "stdout"
        }
      ]
    },
    {
      "cell_type": "code",
      "metadata": {
        "id": "AkBsrsXMzoWR",
        "colab_type": "code",
        "outputId": "8f32b58a-34bf-42fa-98ec-02a36a8bc831",
        "colab": {
          "base_uri": "https://localhost:8080/",
          "height": 290
        }
      },
      "source": [
        "plt.semilogx(history.history[\"lr\"], history.history[\"loss\"])\n",
        "plt.axis([1e-8, 1e-4, 0, 30])"
      ],
      "execution_count": 5,
      "outputs": [
        {
          "output_type": "execute_result",
          "data": {
            "text/plain": [
              "[1e-08, 0.0001, 0, 30]"
            ]
          },
          "metadata": {
            "tags": []
          },
          "execution_count": 5
        },
        {
          "output_type": "display_data",
          "data": {
            "image/png": "[encoded data removed]",
            "text/plain": [
              "<Figure size 432x288 with 1 Axes>"
            ]
          },
          "metadata": {
            "tags": []
          }
        }
      ]
    },
    {
      "cell_type": "code",
      "metadata": {
        "id": "4uh-97bpLZCA",
        "colab_type": "code",
        "colab": {}
      },
      "source": [
        "tf.keras.backend.clear_session()\n",
        "tf.random.set_seed(51)\n",
        "np.random.seed(51)\n",
        "\n",
        "tf.keras.backend.clear_session()\n",
        "dataset = windowed_dataset(x_train, window_size, batch_size, shuffle_buffer_size)\n",
        "\n",
        "model = tf.keras.models.Sequential([\n",
        "  tf.keras.layers.Lambda(lambda x: tf.expand_dims(x, axis=-1),\n",
        "                      input_shape=[None]),\n",
        "   tf.keras.layers.Bidirectional(tf.keras.layers.LSTM(32, return_sequences=True)),\n",
        "  tf.keras.layers.Bidirectional(tf.keras.layers.LSTM(32)),\n",
        "  tf.keras.layers.Dense(1),\n",
        "  tf.keras.layers.Lambda(lambda x: x * 100.0)\n",
        "])\n",
        "\n",
        "\n",
        "model.compile(loss=\"mse\", optimizer=tf.keras.optimizers.SGD(lr=1e-5, momentum=0.9),metrics=[\"mae\"])\n",
        "history = model.fit(dataset,epochs=500,verbose=0)"
      ],
      "execution_count": 0,
      "outputs": []
    },
    {
      "cell_type": "code",
      "metadata": {
        "id": "icGDaND7z0ne",
        "colab_type": "code",
        "outputId": "31c5f683-c363-499d-be20-9329403186d7",
        "colab": {
          "base_uri": "https://localhost:8080/",
          "height": 392
        }
      },
      "source": [
        "forecast = []\n",
        "results = []\n",
        "for time in range(len(series) - window_size):\n",
        "  forecast.append(model.predict(series[time:time + window_size][np.newaxis]))\n",
        "\n",
        "forecast = forecast[split_time-window_size:]\n",
        "results = np.array(forecast)[:, 0, 0]\n",
        "\n",
        "\n",
        "plt.figure(figsize=(10, 6))\n",
        "\n",
        "plot_series(time_valid, x_valid)\n",
        "plot_series(time_valid, results)"
      ],
      "execution_count": 8,
      "outputs": [
        {
          "output_type": "display_data",
          "data": {
            "image/png": "[encoded data removed]",
            "text/plain": [
              "<Figure size 720x432 with 1 Axes>"
            ]
          },
          "metadata": {
            "tags": []
          }
        }
      ]
    },
    {
      "cell_type": "code",
      "metadata": {
        "id": "KfPeqI7rz4LD",
        "colab_type": "code",
        "outputId": "cf39a732-158a-4e0e-de21-cb8d0c38f554",
        "colab": {
          "base_uri": "https://localhost:8080/",
          "height": 34
        }
      },
      "source": [
        "tf.keras.metrics.mean_absolute_error(x_valid, results).numpy()"
      ],
      "execution_count": 9,
      "outputs": [
        {
          "output_type": "execute_result",
          "data": {
            "text/plain": [
              "8.892118"
            ]
          },
          "metadata": {
            "tags": []
          },
          "execution_count": 9
        }
      ]
    },
    {
      "cell_type": "code",
      "metadata": {
        "id": "JUsdZB_tzDLe",
        "colab_type": "code",
        "outputId": "a6a2025e-f49d-4ec8-a0f7-ab3724810884",
        "colab": {
          "base_uri": "https://localhost:8080/",
          "height": 607
        }
      },
      "source": [
        "import matplotlib.image  as mpimg\n",
        "import matplotlib.pyplot as plt\n",
        "\n",
        "#-----------------------------------------------------------\n",
        "# Retrieve a list of list results on training and test data\n",
        "# sets for each training epoch\n",
        "#-----------------------------------------------------------\n",
        "mae=history.history['mae']\n",
        "loss=history.history['loss']\n",
        "\n",
        "epochs=range(len(loss)) # Get number of epochs\n",
        "\n",
        "#------------------------------------------------\n",
        "# Plot MAE and Loss\n",
        "#------------------------------------------------\n",
        "plt.plot(epochs, mae, 'r')\n",
        "plt.plot(epochs, loss, 'b')\n",
        "plt.title('MAE and Loss')\n",
        "plt.xlabel(\"Epochs\")\n",
        "plt.ylabel(\"Accuracy\")\n",
        "plt.legend([\"MAE\", \"Loss\"])\n",
        "\n",
        "plt.figure()\n",
        "\n",
        "epochs_zoom = epochs[200:]\n",
        "mae_zoom = mae[200:]\n",
        "loss_zoom = loss[200:]\n",
        "\n",
        "#------------------------------------------------\n",
        "# Plot Zoomed MAE and Loss\n",
        "#------------------------------------------------\n",
        "plt.plot(epochs_zoom, mae_zoom, 'r')\n",
        "plt.plot(epochs_zoom, loss_zoom, 'b')\n",
        "plt.title('MAE and Loss')\n",
        "plt.xlabel(\"Epochs\")\n",
        "plt.ylabel(\"Accuracy\")\n",
        "plt.legend([\"MAE\", \"Loss\"])\n",
        "\n",
        "plt.figure()"
      ],
      "execution_count": 10,
      "outputs": [
        {
          "output_type": "execute_result",
          "data": {
            "text/plain": [
              "<Figure size 432x288 with 0 Axes>"
            ]
          },
          "metadata": {
            "tags": []
          },
          "execution_count": 10
        },
        {
          "output_type": "display_data",
          "data": {
            "image/png": "[encoded data removed]",
            "text/plain": [
              "<Figure size 432x288 with 1 Axes>"
            ]
          },
          "metadata": {
            "tags": []
          }
        },
        {
          "output_type": "display_data",
          "data": {
            "image/png": "[encoded data removed]",
            "text/plain": [
              "<Figure size 432x288 with 1 Axes>"
            ]
          },
          "metadata": {
            "tags": []
          }
        },
        {
          "output_type": "display_data",
          "data": {
            "text/plain": [
              "<Figure size 432x288 with 0 Axes>"
            ]
          },
          "metadata": {
            "tags": []
          }
        }
      ]
    },
    {
      "cell_type": "code",
      "metadata": {
        "id": "3CGaYFxXNEAK",
        "colab_type": "code",
        "colab": {
          "base_uri": "https://localhost:8080/",
          "height": 34
        },
        "outputId": "e83ec153-fbcd-4776-904e-a54ec9f14d54"
      },
      "source": [
        "tf.keras.backend.clear_session()\n",
        "dataset = windowed_dataset(x_train, window_size, batch_size, shuffle_buffer_size)\n",
        "\n",
        "model = tf.keras.models.Sequential([\n",
        "  tf.keras.layers.Lambda(lambda x: tf.expand_dims(x, axis=-1),\n",
        "                      input_shape=[None]),\n",
        "  tf.keras.layers.Bidirectional(tf.keras.layers.LSTM(32, return_sequences=True)),\n",
        "  tf.keras.layers.Bidirectional(tf.keras.layers.LSTM(32)),\n",
        "  tf.keras.layers.Dense(1),\n",
        "  tf.keras.layers.Lambda(lambda x: x * 100.0)\n",
        "])\n",
        "\n",
        "\n",
        "model.compile(loss=\"mse\", optimizer=tf.keras.optimizers.SGD(lr=1e-6, momentum=0.9))\n",
        "model.fit(dataset,epochs=100, verbose=0)"
      ],
      "execution_count": 11,
      "outputs": [
        {
          "output_type": "execute_result",
          "data": {
            "text/plain": [
              "<tensorflow.python.keras.callbacks.History at 0x7f6fad9dd240>"
            ]
          },
          "metadata": {
            "tags": []
          },
          "execution_count": 11
        }
      ]
    },
    {
      "cell_type": "code",
      "metadata": {
        "id": "FJ3R8ysauz9e",
        "colab_type": "code",
        "colab": {
          "base_uri": "https://localhost:8080/",
          "height": 1000
        },
        "outputId": "1148d16f-ccf8-4f11-cb8d-67a820d0eb00"
      },
      "source": [
        "tf.keras.backend.clear_session()\n",
        "dataset = windowed_dataset(x_train, window_size, batch_size, shuffle_buffer_size)\n",
        "\n",
        "model = tf.keras.models.Sequential([\n",
        "  tf.keras.layers.Lambda(lambda x: tf.expand_dims(x, axis=-1),\n",
        "                      input_shape=[None]),\n",
        "  tf.keras.layers.Bidirectional(tf.keras.layers.LSTM(32, return_sequences=True)),\n",
        "  tf.keras.layers.Bidirectional(tf.keras.layers.LSTM(32, return_sequences=True)),\n",
        "  tf.keras.layers.Bidirectional(tf.keras.layers.LSTM(32)),\n",
        "  tf.keras.layers.Dense(1),\n",
        "  tf.keras.layers.Lambda(lambda x: x * 100.0)\n",
        "])\n",
        "\n",
        "\n",
        "model.compile(loss=\"mse\", optimizer=tf.keras.optimizers.SGD(lr=1e-6, momentum=0.9))\n",
        "model.fit(dataset,epochs=100)"
      ],
      "execution_count": 12,
      "outputs": [
        {
          "output_type": "stream",
          "text": [
            "Epoch 1/100\n",
            "31/31 [==============================] - 6s 195ms/step - loss: 637.0232\n",
            "Epoch 2/100\n",
            "31/31 [==============================] - 1s 40ms/step - loss: 122.8773\n",
            "Epoch 3/100\n",
            "31/31 [==============================] - 1s 40ms/step - loss: 89.8168\n",
            "Epoch 4/100\n",
            "31/31 [==============================] - 1s 39ms/step - loss: 84.2508\n",
            "Epoch 5/100\n",
            "31/31 [==============================] - 1s 42ms/step - loss: 79.5159\n",
            "Epoch 6/100\n",
            "31/31 [==============================] - 1s 40ms/step - loss: 76.3834\n",
            "Epoch 7/100\n",
            "31/31 [==============================] - 1s 40ms/step - loss: 74.8104\n",
            "Epoch 8/100\n",
            "31/31 [==============================] - 1s 40ms/step - loss: 72.5390\n",
            "Epoch 9/100\n",
            "31/31 [==============================] - 1s 39ms/step - loss: 70.1341\n",
            "Epoch 10/100\n",
            "31/31 [==============================] - 1s 40ms/step - loss: 67.8125\n",
            "Epoch 11/100\n",
            "31/31 [==============================] - 1s 39ms/step - loss: 65.6324\n",
            "Epoch 12/100\n",
            "31/31 [==============================] - 1s 40ms/step - loss: 63.5658\n",
            "Epoch 13/100\n",
            "31/31 [==============================] - 1s 40ms/step - loss: 61.9425\n",
            "Epoch 14/100\n",
            "31/31 [==============================] - 1s 40ms/step - loss: 60.6526\n",
            "Epoch 15/100\n",
            "31/31 [==============================] - 1s 41ms/step - loss: 59.3869\n",
            "Epoch 16/100\n",
            "31/31 [==============================] - 1s 40ms/step - loss: 58.1848\n",
            "Epoch 17/100\n",
            "31/31 [==============================] - 1s 40ms/step - loss: 57.0835\n",
            "Epoch 18/100\n",
            "31/31 [==============================] - 1s 40ms/step - loss: 56.1330\n",
            "Epoch 19/100\n",
            "31/31 [==============================] - 1s 43ms/step - loss: 55.3125\n",
            "Epoch 20/100\n",
            "31/31 [==============================] - 1s 41ms/step - loss: 54.5839\n",
            "Epoch 21/100\n",
            "31/31 [==============================] - 1s 40ms/step - loss: 53.9228\n",
            "Epoch 22/100\n",
            "31/31 [==============================] - 1s 40ms/step - loss: 53.3415\n",
            "Epoch 23/100\n",
            "31/31 [==============================] - 1s 40ms/step - loss: 52.8659\n",
            "Epoch 24/100\n",
            "31/31 [==============================] - 1s 40ms/step - loss: 52.4864\n",
            "Epoch 25/100\n",
            "31/31 [==============================] - 1s 40ms/step - loss: 52.1686\n",
            "Epoch 26/100\n",
            "31/31 [==============================] - 1s 40ms/step - loss: 51.8840\n",
            "Epoch 27/100\n",
            "31/31 [==============================] - 1s 42ms/step - loss: 51.6148\n",
            "Epoch 28/100\n",
            "31/31 [==============================] - 1s 41ms/step - loss: 51.3508\n",
            "Epoch 29/100\n",
            "31/31 [==============================] - 1s 41ms/step - loss: 51.0871\n",
            "Epoch 30/100\n",
            "31/31 [==============================] - 1s 41ms/step - loss: 50.8224\n",
            "Epoch 31/100\n",
            "31/31 [==============================] - 1s 41ms/step - loss: 50.5579\n",
            "Epoch 32/100\n",
            "31/31 [==============================] - 1s 42ms/step - loss: 50.2961\n",
            "Epoch 33/100\n",
            "31/31 [==============================] - 1s 42ms/step - loss: 50.0395\n",
            "Epoch 34/100\n",
            "31/31 [==============================] - 1s 42ms/step - loss: 49.7900\n",
            "Epoch 35/100\n",
            "31/31 [==============================] - 1s 39ms/step - loss: 49.5489\n",
            "Epoch 36/100\n",
            "31/31 [==============================] - 1s 40ms/step - loss: 49.3170\n",
            "Epoch 37/100\n",
            "31/31 [==============================] - 1s 39ms/step - loss: 49.0943\n",
            "Epoch 38/100\n",
            "31/31 [==============================] - 1s 39ms/step - loss: 48.8808\n",
            "Epoch 39/100\n",
            "31/31 [==============================] - 1s 39ms/step - loss: 48.6762\n",
            "Epoch 40/100\n",
            "31/31 [==============================] - 1s 39ms/step - loss: 48.4799\n",
            "Epoch 41/100\n",
            "31/31 [==============================] - 1s 40ms/step - loss: 48.2917\n",
            "Epoch 42/100\n",
            "31/31 [==============================] - 1s 41ms/step - loss: 48.1112\n",
            "Epoch 43/100\n",
            "31/31 [==============================] - 1s 41ms/step - loss: 47.9379\n",
            "Epoch 44/100\n",
            "31/31 [==============================] - 1s 40ms/step - loss: 47.7714\n",
            "Epoch 45/100\n",
            "31/31 [==============================] - 1s 39ms/step - loss: 47.6114\n",
            "Epoch 46/100\n",
            "31/31 [==============================] - 1s 41ms/step - loss: 47.4575\n",
            "Epoch 47/100\n",
            "31/31 [==============================] - 1s 39ms/step - loss: 47.3094\n",
            "Epoch 48/100\n",
            "31/31 [==============================] - 1s 40ms/step - loss: 47.1667\n",
            "Epoch 49/100\n",
            "31/31 [==============================] - 1s 39ms/step - loss: 47.0292\n",
            "Epoch 50/100\n",
            "31/31 [==============================] - 1s 40ms/step - loss: 46.8964\n",
            "Epoch 51/100\n",
            "31/31 [==============================] - 1s 39ms/step - loss: 46.7682\n",
            "Epoch 52/100\n",
            "31/31 [==============================] - 1s 39ms/step - loss: 46.6443\n",
            "Epoch 53/100\n",
            "31/31 [==============================] - 1s 41ms/step - loss: 46.5244\n",
            "Epoch 54/100\n",
            "31/31 [==============================] - 1s 41ms/step - loss: 46.4082\n",
            "Epoch 55/100\n",
            "31/31 [==============================] - 1s 40ms/step - loss: 46.2957\n",
            "Epoch 56/100\n",
            "31/31 [==============================] - 1s 41ms/step - loss: 46.1864\n",
            "Epoch 57/100\n",
            "31/31 [==============================] - 1s 40ms/step - loss: 46.0804\n",
            "Epoch 58/100\n",
            "31/31 [==============================] - 1s 40ms/step - loss: 45.9775\n",
            "Epoch 59/100\n",
            "31/31 [==============================] - 1s 40ms/step - loss: 45.8775\n",
            "Epoch 60/100\n",
            "31/31 [==============================] - 1s 39ms/step - loss: 45.7804\n",
            "Epoch 61/100\n",
            "31/31 [==============================] - 1s 40ms/step - loss: 45.6861\n",
            "Epoch 62/100\n",
            "31/31 [==============================] - 1s 39ms/step - loss: 45.5945\n",
            "Epoch 63/100\n",
            "31/31 [==============================] - 1s 40ms/step - loss: 45.5056\n",
            "Epoch 64/100\n",
            "31/31 [==============================] - 1s 40ms/step - loss: 45.4194\n",
            "Epoch 65/100\n",
            "31/31 [==============================] - 1s 41ms/step - loss: 45.3357\n",
            "Epoch 66/100\n",
            "31/31 [==============================] - 1s 42ms/step - loss: 45.2546\n",
            "Epoch 67/100\n",
            "31/31 [==============================] - 1s 41ms/step - loss: 45.1759\n",
            "Epoch 68/100\n",
            "31/31 [==============================] - 1s 40ms/step - loss: 45.0995\n",
            "Epoch 69/100\n",
            "31/31 [==============================] - 1s 39ms/step - loss: 45.0254\n",
            "Epoch 70/100\n",
            "31/31 [==============================] - 1s 40ms/step - loss: 44.9535\n",
            "Epoch 71/100\n",
            "31/31 [==============================] - 1s 41ms/step - loss: 44.8836\n",
            "Epoch 72/100\n",
            "31/31 [==============================] - 1s 40ms/step - loss: 44.8156\n",
            "Epoch 73/100\n",
            "31/31 [==============================] - 1s 40ms/step - loss: 44.7494\n",
            "Epoch 74/100\n",
            "31/31 [==============================] - 1s 41ms/step - loss: 44.6850\n",
            "Epoch 75/100\n",
            "31/31 [==============================] - 1s 41ms/step - loss: 44.6222\n",
            "Epoch 76/100\n",
            "31/31 [==============================] - 1s 41ms/step - loss: 44.5609\n",
            "Epoch 77/100\n",
            "31/31 [==============================] - 1s 43ms/step - loss: 44.5011\n",
            "Epoch 78/100\n",
            "31/31 [==============================] - 1s 42ms/step - loss: 44.4426\n",
            "Epoch 79/100\n",
            "31/31 [==============================] - 1s 41ms/step - loss: 44.3854\n",
            "Epoch 80/100\n",
            "31/31 [==============================] - 1s 41ms/step - loss: 44.3295\n",
            "Epoch 81/100\n",
            "31/31 [==============================] - 1s 42ms/step - loss: 44.2747\n",
            "Epoch 82/100\n",
            "31/31 [==============================] - 1s 41ms/step - loss: 44.2211\n",
            "Epoch 83/100\n",
            "31/31 [==============================] - 1s 39ms/step - loss: 44.1685\n",
            "Epoch 84/100\n",
            "31/31 [==============================] - 1s 40ms/step - loss: 44.1171\n",
            "Epoch 85/100\n",
            "31/31 [==============================] - 1s 40ms/step - loss: 44.0667\n",
            "Epoch 86/100\n",
            "31/31 [==============================] - 1s 39ms/step - loss: 44.0173\n",
            "Epoch 87/100\n",
            "31/31 [==============================] - 1s 40ms/step - loss: 43.9690\n",
            "Epoch 88/100\n",
            "31/31 [==============================] - 1s 40ms/step - loss: 43.9217\n",
            "Epoch 89/100\n",
            "31/31 [==============================] - 1s 42ms/step - loss: 43.8755\n",
            "Epoch 90/100\n",
            "31/31 [==============================] - 1s 43ms/step - loss: 43.8303\n",
            "Epoch 91/100\n",
            "31/31 [==============================] - 1s 40ms/step - loss: 43.7861\n",
            "Epoch 92/100\n",
            "31/31 [==============================] - 1s 40ms/step - loss: 43.7430\n",
            "Epoch 93/100\n",
            "31/31 [==============================] - 1s 40ms/step - loss: 43.7008\n",
            "Epoch 94/100\n",
            "31/31 [==============================] - 1s 41ms/step - loss: 43.6597\n",
            "Epoch 95/100\n",
            "31/31 [==============================] - 1s 40ms/step - loss: 43.6195\n",
            "Epoch 96/100\n",
            "31/31 [==============================] - 1s 40ms/step - loss: 43.5803\n",
            "Epoch 97/100\n",
            "31/31 [==============================] - 1s 42ms/step - loss: 43.5420\n",
            "Epoch 98/100\n",
            "31/31 [==============================] - 1s 42ms/step - loss: 43.5047\n",
            "Epoch 99/100\n",
            "31/31 [==============================] - 1s 40ms/step - loss: 43.4682\n",
            "Epoch 100/100\n",
            "31/31 [==============================] - 1s 41ms/step - loss: 43.4325\n"
          ],
          "name": "stdout"
        },
        {
          "output_type": "execute_result",
          "data": {
            "text/plain": [
              "<tensorflow.python.keras.callbacks.History at 0x7f6fa9a84748>"
            ]
          },
          "metadata": {
            "tags": []
          },
          "execution_count": 12
        }
      ]
    },
    {
      "cell_type": "code",
      "metadata": {
        "id": "Hvne2MFlJGN8",
        "colab_type": "code",
        "colab": {}
      },
      "source": [
        ""
      ],
      "execution_count": 0,
      "outputs": []
    }
  ]
}